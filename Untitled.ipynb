{
 "cells": [
  {
   "cell_type": "code",
   "execution_count": 1,
   "id": "d6a83e61-4d52-4d6f-8ad7-a6b65e5072e0",
   "metadata": {},
   "outputs": [
    {
     "name": "stdout",
     "output_type": "stream",
     "text": [
      "CUDA is available. GPU: NVIDIA GeForce RTX 2070 with Max-Q Design\n"
     ]
    }
   ],
   "source": [
    "import torch\n",
    "\n",
    "if torch.cuda.is_available():\n",
    "    print(\"CUDA is available. GPU:\", torch.cuda.get_device_name(0))\n",
    "else:\n",
    "    print(\"CUDA is not available.\")\n"
   ]
  },
  {
   "cell_type": "code",
   "execution_count": 3,
   "id": "d1b93814-0222-4c93-9311-c15b43efd0d9",
   "metadata": {},
   "outputs": [
    {
     "ename": "ModuleNotFoundError",
     "evalue": "No module named 'yolov5'",
     "output_type": "error",
     "traceback": [
      "\u001b[1;31m---------------------------------------------------------------------------\u001b[0m",
      "\u001b[1;31mModuleNotFoundError\u001b[0m                       Traceback (most recent call last)",
      "Cell \u001b[1;32mIn[3], line 2\u001b[0m\n\u001b[0;32m      1\u001b[0m \u001b[38;5;28;01mimport\u001b[39;00m \u001b[38;5;21;01mtorch\u001b[39;00m\n\u001b[1;32m----> 2\u001b[0m \u001b[38;5;28;01mfrom\u001b[39;00m \u001b[38;5;21;01myolov5\u001b[39;00m \u001b[38;5;28;01mimport\u001b[39;00m YOLOv5\n\u001b[0;32m      3\u001b[0m \u001b[38;5;28;01mimport\u001b[39;00m \u001b[38;5;21;01mtime\u001b[39;00m\n\u001b[0;32m      4\u001b[0m \u001b[38;5;28;01mimport\u001b[39;00m \u001b[38;5;21;01mos\u001b[39;00m\n",
      "\u001b[1;31mModuleNotFoundError\u001b[0m: No module named 'yolov5'"
     ]
    }
   ],
   "source": [
    "import torch\n",
    "from yolov5 import YOLOv5\n",
    "import time\n",
    "import os\n",
    "\n",
    "# Define the path to the test images and model\n",
    "test_images_path = r'C:\\Users\\jasar\\Desktop\\yolo_tekmovanje_ruze\\test\\images'\n",
    "model_path = \"path_to_yolov5_model\"  # Update this path to your model\n",
    "\n",
    "# Load the pre-trained YOLOv5 model\n",
    "model = YOLOv5(model_path)\n",
    "\n",
    "# Check if CUDA is available for faster processing\n",
    "device = 'cuda' if torch.cuda.is_available() else 'cpu'\n",
    "model.to(device)\n",
    "\n",
    "# Function to process and test images\n",
    "def test_yolo(model, folder_path):\n",
    "    total_time = 0\n",
    "    num_images = 0\n",
    "\n",
    "    for image_name in os.listdir(folder_path):\n",
    "        image_path = os.path.join(folder_path, image_name)\n",
    "        if os.path.isfile(image_path):\n",
    "            # Load image\n",
    "            img = model.load_image(image_path)  # Using YOLOv5's image loading method\n",
    "            img = img.to(device)\n",
    "\n",
    "            # Start time\n",
    "            start_time = time.time()\n",
    "\n",
    "            # Perform inference\n",
    "            results = model.predict(img)\n",
    "\n",
    "            # End time\n",
    "            end_time = time.time()\n",
    "\n",
    "            # Calculate processing time\n",
    "            elapsed_time = end_time - start_time\n",
    "            total_time += elapsed_time\n",
    "            num_images += 1\n",
    "\n",
    "            print(f\"Processed {image_name} in {elapsed_time:.2f} seconds.\")\n",
    "\n",
    "    average_time = total_time / num_images if num_images else 0\n",
    "    return average_time, total_time, num_images\n",
    "\n",
    "# Test the model on your dataset\n",
    "average_time, total_time, num_images = test_yolo(model, test_images_path)\n",
    "\n",
    "print(f\"Total time for {num_images} images: {total_time:.2f} seconds\")\n",
    "print(f\"Average time per image: {average_time:.2f} seconds\")\n"
   ]
  },
  {
   "cell_type": "code",
   "execution_count": null,
   "id": "54f090b3-9aa9-4798-bc6e-4a1db50a389d",
   "metadata": {},
   "outputs": [],
   "source": []
  }
 ],
 "metadata": {
  "kernelspec": {
   "display_name": "cuda-gpt",
   "language": "python",
   "name": "cuda"
  },
  "language_info": {
   "codemirror_mode": {
    "name": "ipython",
    "version": 3
   },
   "file_extension": ".py",
   "mimetype": "text/x-python",
   "name": "python",
   "nbconvert_exporter": "python",
   "pygments_lexer": "ipython3",
   "version": "3.11.5"
  }
 },
 "nbformat": 4,
 "nbformat_minor": 5
}
